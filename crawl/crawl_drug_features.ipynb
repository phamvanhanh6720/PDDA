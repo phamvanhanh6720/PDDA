{
 "cells": [
  {
   "cell_type": "code",
   "execution_count": 1,
   "metadata": {
    "collapsed": true
   },
   "outputs": [],
   "source": [
    "from bs4 import BeautifulSoup\n",
    "import requests\n",
    "from lxml import html\n"
   ]
  },
  {
   "cell_type": "code",
   "execution_count": 2,
   "outputs": [],
   "source": [
    "def get_drug_feature(drugbank_id):\n",
    "\n",
    "    global drug_target_dict\n",
    "    global drug_enzyme_dict\n",
    "\n",
    "    url = 'https://go.drugbank.com/drugs/{}'.format(drugbank_id)\n",
    "    response = requests.get(url)\n",
    "    if response.status_code != 200:\n",
    "        return [], []\n",
    "    soup = BeautifulSoup(response.text)\n",
    "    target_zone = soup.find('div', {'id':'targets'})\n",
    "\n",
    "    targets_body = target_zone.find_all(class_='card-body')\n",
    "\n",
    "    drug_targets_id = []\n",
    "    drug_enzymes_id = []\n",
    "    count = 0\n",
    "\n",
    "    for target in targets_body:\n",
    "        count += 1\n",
    "        if len(target.find_all('h5')) > 1:\n",
    "            component = target.find('tbody')\n",
    "            tree = html.fromstring(str(component))\n",
    "            for i in range(1, len(component) + 1, 1):\n",
    "                uniport_id = tree.xpath('./tr[{}]/td[2]/a'.format(i))[0].text\n",
    "                uniport_name = tree.xpath('./tr[{}]/td[1]/a'.format(i))[0].text\n",
    "\n",
    "                drug_targets_id.append(uniport_id)\n",
    "                if uniport_id not in drug_target_dict.keys():\n",
    "                    drug_target_dict[uniport_id] = uniport_name\n",
    "\n",
    "        else:\n",
    "            tree = html.fromstring(str(target))\n",
    "            try:\n",
    "                res = tree.xpath('./div[1]/div[2]/dl/dd[4]/a')\n",
    "                uniport_id = res[0].text\n",
    "                res = tree.xpath('./div[1]/div[2]/dl/dd[5]')\n",
    "                uniport_name = res[0].text\n",
    "                drug_targets_id.append(uniport_id)\n",
    "                if uniport_id not in drug_target_dict.keys():\n",
    "                    drug_target_dict[uniport_id] = uniport_name\n",
    "            except:\n",
    "                print(\"Target {} attribute {} {}\".format(drugbank_id, target.attrs, count))\n",
    "\n",
    "\n",
    "    enzyme_zone = soup.find_all('div', {'id':'enzymes'})\n",
    "    count = 0\n",
    "    if len(enzyme_zone) != 0:\n",
    "        enzymes_body = enzyme_zone[0].find_all(class_='card-body')\n",
    "        for enzyme in enzymes_body:\n",
    "            count += 1\n",
    "            if len(enzyme.find_all('h5')) > 1:\n",
    "                component = enzyme.find('tbody')\n",
    "                tree = html.fromstring(str(component))\n",
    "                for i in range(1, len(component) + 1, 1):\n",
    "                    uniport_id = tree.xpath('./tr[{}]/td[2]/a'.format(i))[0].text\n",
    "                    uniport_name = tree.xpath('./tr[{}]/td[1]/a'.format(i))[0].text\n",
    "\n",
    "                    drug_enzymes_id.append(uniport_id)\n",
    "                    if uniport_id not in drug_enzyme_dict.keys():\n",
    "                        drug_enzyme_dict[uniport_id] = uniport_name\n",
    "\n",
    "            else:\n",
    "                tree = html.fromstring(str(enzyme))\n",
    "                try:\n",
    "                    res = tree.xpath('./div[1]/div[2]/dl/dd[4]/a')\n",
    "                    uniport_id = res[0].text\n",
    "\n",
    "                    res = tree.xpath('./div[1]/div[2]/dl/dd[5]')\n",
    "                    uniport_name = res[0].text\n",
    "                    drug_enzymes_id.append(uniport_id)\n",
    "                    if uniport_id not in drug_enzyme_dict.keys():\n",
    "                        drug_enzyme_dict[uniport_id] = uniport_name\n",
    "                except:\n",
    "                    print(\"Enzyme {} attribute {} {}\".format(drugbank_id, enzyme.attrs, count))\n",
    "\n",
    "\n",
    "    return drug_targets_id, drug_enzymes_id"
   ],
   "metadata": {
    "collapsed": false,
    "pycharm": {
     "name": "#%%\n"
    }
   }
  },
  {
   "cell_type": "code",
   "execution_count": 3,
   "outputs": [],
   "source": [
    "import pandas as pd\n",
    "\n",
    "file_path = '../data/drugs.csv'\n",
    "df = pd.read_csv(file_path)\n",
    "data = df.values"
   ],
   "metadata": {
    "collapsed": false,
    "pycharm": {
     "name": "#%%\n"
    }
   }
  },
  {
   "cell_type": "code",
   "execution_count": 4,
   "outputs": [],
   "source": [
    "drug_target_dict:dict = {}\n",
    "drug_enzyme_dict:dict = {}"
   ],
   "metadata": {
    "collapsed": false,
    "pycharm": {
     "name": "#%%\n"
    }
   }
  },
  {
   "cell_type": "code",
   "execution_count": 5,
   "outputs": [
    {
     "name": "stdout",
     "output_type": "stream",
     "text": [
      "Enzyme DB01149 attribute {'class': ['card-body']} 4\n",
      "Target DB00441 attribute {'class': ['card-body']} 1\n",
      "Target DB00276 attribute {'class': ['card-body']} 1\n",
      "Target DB00945 attribute {'class': ['card-body']} 18\n",
      "Target DB00257 attribute {'class': ['card-body']} 5\n",
      "Target DB00987 attribute {'class': ['card-body']} 2\n",
      "Target DB00694 attribute {'class': ['card-body']} 1\n",
      "Target DB00997 attribute {'class': ['card-body']} 1\n",
      "Target DB00254 attribute {'class': ['card-body']} 1\n",
      "Target DB00199 attribute {'class': ['card-body']} 1\n",
      "Target DB00544 attribute {'class': ['card-body']} 2\n",
      "Target DB00544 attribute {'class': ['card-body']} 3\n",
      "Target DB01204 attribute {'class': ['card-body']} 1\n",
      "Target DB01103 attribute {'class': ['card-body']} 1\n",
      "Target DB00468 attribute {'class': ['card-body']} 1\n",
      "Target DB00428 attribute {'class': ['card-body']} 1\n",
      "Target DB00759 attribute {'class': ['card-body']} 6\n",
      "Enzyme DB01586 attribute {'class': ['card-body']} 1\n",
      "Enzyme DB00115 attribute {'class': ['card-body']} 3\n",
      "Target DB00445 attribute {'class': ['card-body']} 2\n",
      "Target DB01177 attribute {'class': ['card-body']} 1\n",
      "Target DB00358 attribute {'class': ['card-body']} 1\n",
      "Target DB00358 attribute {'class': ['card-body']} 3\n",
      "Target DB00242 attribute {'class': ['card-body']} 4\n",
      "Target DB00734 attribute {'class': ['card-body']} 12\n"
     ]
    }
   ],
   "source": [
    "headers = ['drug_id', 'name', 'drugbank_id', 'smiles', 'drug_targets', 'drug_enzymes']\n",
    "new_drugs_info = []\n",
    "for drug in data:\n",
    "    drug_id, drug_name, drugbank_id, smiles = drug\n",
    "    try:\n",
    "        drug_targets, drug_enzymes = get_drug_feature(drugbank_id=drugbank_id)\n",
    "        new_drugs_info.append([drug_id, drug_name, drugbank_id, smiles, str(drug_targets), str(drug_enzymes)])\n",
    "    except:\n",
    "        print(\"Drug Bank {}\".format(drugbank_id))\n",
    "        new_drugs_info.append([drug_id, drug_name, drugbank_id, smiles, str([]), str([])])"
   ],
   "metadata": {
    "collapsed": false,
    "pycharm": {
     "name": "#%%\n"
    }
   }
  },
  {
   "cell_type": "code",
   "execution_count": 6,
   "outputs": [],
   "source": [
    "import csv\n",
    "with open('new_drugs_info.csv', 'w') as csvfile:\n",
    "    csv_writer = csv.writer(csvfile)\n",
    "    csv_writer.writerow(headers)\n",
    "    csv_writer.writerows(new_drugs_info)"
   ],
   "metadata": {
    "collapsed": false,
    "pycharm": {
     "name": "#%%\n"
    }
   }
  },
  {
   "cell_type": "code",
   "execution_count": 7,
   "outputs": [],
   "source": [
    "drug_targets = drug_target_dict.items()\n",
    "drug_targets = [list(_) for _ in list(drug_targets)]\n",
    "with open('drugtargets.csv', 'w') as csvfile:\n",
    "    csv_writer = csv.writer(csvfile)\n",
    "    csv_writer.writerow(['uniport_id', 'uniport_name'])\n",
    "    csv_writer.writerows(drug_targets)"
   ],
   "metadata": {
    "collapsed": false,
    "pycharm": {
     "name": "#%%\n"
    }
   }
  },
  {
   "cell_type": "code",
   "execution_count": 8,
   "outputs": [],
   "source": [
    "drug_enzymes = list(drug_enzyme_dict.items())\n",
    "drug_enzymes = [list(_) for _ in drug_enzymes]\n",
    "with open('drugenzymes.csv', 'w') as csvfile:\n",
    "    csv_writer = csv.writer(csvfile)\n",
    "    csv_writer.writerow(['uniport_id', 'uniport_name'])\n",
    "    csv_writer.writerows(drug_enzymes)"
   ],
   "metadata": {
    "collapsed": false,
    "pycharm": {
     "name": "#%%\n"
    }
   }
  },
  {
   "cell_type": "code",
   "execution_count": 9,
   "outputs": [],
   "source": [
    "drugbank_id = 'DB00688'"
   ],
   "metadata": {
    "collapsed": false,
    "pycharm": {
     "name": "#%%\n"
    }
   }
  },
  {
   "cell_type": "code",
   "execution_count": 10,
   "outputs": [
    {
     "name": "stdout",
     "output_type": "stream",
     "text": [
      "Target DB00945 attribute {'class': ['card-body']} 18\n"
     ]
    }
   ],
   "source": [
    "res = get_drug_feature(drugbank_id=drugbank_id)"
   ],
   "metadata": {
    "collapsed": false,
    "pycharm": {
     "name": "#%%\n"
    }
   }
  }
 ],
 "metadata": {
  "kernelspec": {
   "display_name": "Python 3",
   "language": "python",
   "name": "python3"
  },
  "language_info": {
   "codemirror_mode": {
    "name": "ipython",
    "version": 2
   },
   "file_extension": ".py",
   "mimetype": "text/x-python",
   "name": "python",
   "nbconvert_exporter": "python",
   "pygments_lexer": "ipython2",
   "version": "2.7.6"
  }
 },
 "nbformat": 4,
 "nbformat_minor": 0
}