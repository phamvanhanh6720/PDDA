{
 "cells": [
  {
   "cell_type": "code",
   "execution_count": 1,
   "metadata": {
    "collapsed": true,
    "pycharm": {
     "name": "#%%\n"
    }
   },
   "outputs": [],
   "source": [
    "import requests\n",
    "import pandas"
   ]
  },
  {
   "cell_type": "code",
   "execution_count": 10,
   "outputs": [],
   "source": [
    "def get_smiles(drugbank_id: str):\n",
    "    url = 'https://go.drugbank.com/structures/small_molecule_drugs/{}.smiles'.format(drugbank_id)\n",
    "    res = requests.get(url)\n",
    "    if res.status_code == 200:\n",
    "        smiles = res.text\n",
    "        return smiles"
   ],
   "metadata": {
    "collapsed": false,
    "pycharm": {
     "name": "#%%\n"
    }
   }
  },
  {
   "cell_type": "code",
   "execution_count": 15,
   "outputs": [],
   "source": [
    "data = pandas.read_csv('./data/drug.csv')\n",
    "drugs = data.values"
   ],
   "metadata": {
    "collapsed": false,
    "pycharm": {
     "name": "#%%\n"
    }
   }
  },
  {
   "cell_type": "code",
   "execution_count": 16,
   "outputs": [],
   "source": [
    "new_drug_info = list()\n",
    "for row in drugs:\n",
    "    drug_id = row[0]\n",
    "    drug_name = row[1]\n",
    "    drugbank_id = row[2]\n",
    "    if drugbank_id != '':\n",
    "        drug_smiles = get_smiles(drugbank_id)\n",
    "    else:\n",
    "        drug_smiles = ''\n",
    "\n",
    "    new_drug_info.append([drug_id, drug_name, drugbank_id, drug_smiles])"
   ],
   "metadata": {
    "collapsed": false,
    "pycharm": {
     "name": "#%%\n"
    }
   }
  },
  {
   "cell_type": "code",
   "execution_count": 17,
   "outputs": [],
   "source": [
    "import csv\n",
    "with open('new_drugs.csv', 'w') as csvfile:\n",
    "    csvwriter = csv.writer(csvfile)\n",
    "    csvwriter.writerow(['drug_id', 'name', 'drugbank_id', 'smiles'])\n",
    "    csvwriter.writerows(new_drug_info)"
   ],
   "metadata": {
    "collapsed": false,
    "pycharm": {
     "name": "#%%\n"
    }
   }
  },
  {
   "cell_type": "code",
   "execution_count": null,
   "outputs": [],
   "source": [],
   "metadata": {
    "collapsed": false,
    "pycharm": {
     "name": "#%%\n"
    }
   }
  }
 ],
 "metadata": {
  "kernelspec": {
   "name": "cs224w",
   "language": "python",
   "display_name": "cs224w"
  },
  "language_info": {
   "codemirror_mode": {
    "name": "ipython",
    "version": 2
   },
   "file_extension": ".py",
   "mimetype": "text/x-python",
   "name": "python",
   "nbconvert_exporter": "python",
   "pygments_lexer": "ipython2",
   "version": "2.7.6"
  }
 },
 "nbformat": 4,
 "nbformat_minor": 0
}